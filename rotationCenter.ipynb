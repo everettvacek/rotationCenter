{
 "cells": [
  {
   "cell_type": "code",
   "execution_count": 1,
   "metadata": {
    "scrolled": false
   },
   "outputs": [
    {
     "name": "stderr",
     "output_type": "stream",
     "text": [
      "/home/everett/anaconda3/lib/python3.6/importlib/_bootstrap.py:219: RuntimeWarning: numpy.dtype size changed, may indicate binary incompatibility. Expected 96, got 88\n",
      "  return f(*args, **kwds)\n"
     ]
    }
   ],
   "source": [
    "import numpy as np\n",
    "from matplotlib import pyplot as plt\n",
    "\n",
    "#from skimage.transform import rescale, resize, radon, iradon\n",
    "#from scipy.stats import mode\n",
    "\n",
    "from utils2 import *\n",
    "import h5py\n",
    "from time import time"
   ]
  },
  {
   "cell_type": "markdown",
   "metadata": {},
   "source": [
    "# All"
   ]
  },
  {
   "cell_type": "code",
   "execution_count": 2,
   "metadata": {},
   "outputs": [
    {
     "name": "stdout",
     "output_type": "stream",
     "text": [
      "[151.46697972] 0.00993204116821289\n"
     ]
    }
   ],
   "source": [
    "data = np.load('./sinograms/tomo_00064_to_00067/tomo_00066.npy')\n",
    "sinogram = data[:,0,:]\n",
    "shape = sinogram.shape[0]\n",
    "start = time()\n",
    "rowsum = np.sum(sinogram, axis=1)\n",
    "window = shape//2\n",
    "shifting_range = shape-window\n",
    "\n",
    "bins = []\n",
    "for i in range(shifting_range):\n",
    "    bins.append(window_bins(rowsum, window, i, fbins = [1])[0])\n",
    "    \n",
    "root, spline = spline_root(np.imag(bins), window)\n",
    "end = time()\n",
    "print(root, end-start)"
   ]
  },
  {
   "cell_type": "markdown",
   "metadata": {},
   "source": [
    "# Load Data.\n",
    "\n",
    "Center finder works on 2D sinograms so select a sinogram along the y axis and load the data as (x, theta)"
   ]
  },
  {
   "cell_type": "code",
   "execution_count": 3,
   "metadata": {
    "scrolled": true
   },
   "outputs": [],
   "source": [
    "#h_sino = h5py.File('./sinograms/tomo_00001/tomo_00001.h5', 'r')\n",
    "data = np.load('./sinograms/tomo_00064_to_00067/tomo_00066.npy')\n",
    "#h_sino = h5py.File('./phantoms/phantom_00002/phantom_00002.h5','r')\n",
    "#data, theta = tomobank_phantom_sino('./phantoms/phantom_00008/phantom_00008.h5')\n",
    "#print(data.shape)\n",
    "#print(np.max(theta))"
   ]
  },
  {
   "cell_type": "markdown",
   "metadata": {},
   "source": [
    "# Center finding on data and data with simulated."
   ]
  },
  {
   "cell_type": "code",
   "execution_count": 4,
   "metadata": {
    "scrolled": false
   },
   "outputs": [],
   "source": [
    "## Define exposure and bit_depth for simulated data (enter None for real data)\n",
    "exposure = 5\n",
    "bit_depth = None\n",
    "\n",
    "## Choose to sum along Y axis or to select a slice \n",
    "sinogram = data[:,0,:] #select a slice\n",
    "#image_center = sinogram.shape[0]/2\n",
    "\n",
    "## Add noise\n",
    "#sinogram_noise, sinogram_noise_snr = add_noise2(sinogram, exposure, bit_depth = bit_depth)\n",
    "\n",
    "## Sum along theta\n",
    "rowsum = np.sum(sinogram, axis=1)\n",
    "#rowsum_n = np.sum(sinogram_noise, axis=1)\n",
    "\n",
    "## Print contrast ratio of arrays\n",
    "## Contrast ratio is defined as the ratio of the max difference pixel values to\n",
    "## the difference between minimum and maximum allowed values for the arrays dtype\n",
    "\n",
    "#print('Contrast ratio of input data:           ',  contrast_ratio(sinogram))\n",
    "#print('Contrast ratio of low exposure data:    ', contrast_ratio(sinogram_noise), '\\n')\n",
    "#print('Contrast ratio of input row sum:        ',  contrast_ratio(rowsum))\n",
    "#print('Contrast ratio of low exposure row sum: ', contrast_ratio(rowsum_n))\n",
    "\n",
    "## Plot ##\n",
    "#imimplot(sinogram, sinogram_noise, (rowsum, rowsum_n),\n",
    "#         ('Input Data', 'Exposure = ' + str(exposure)), title = 'Row Sum')"
   ]
  },
  {
   "cell_type": "markdown",
   "metadata": {},
   "source": [
    "# Select window size, shifting range. Find center"
   ]
  },
  {
   "cell_type": "code",
   "execution_count": 5,
   "metadata": {
    "scrolled": false
   },
   "outputs": [
    {
     "name": "stdout",
     "output_type": "stream",
     "text": [
      "[151.46697972]\n"
     ]
    },
    {
     "data": {
      "text/plain": [
       "\"\\n## Plot results\\nplt.figure(figsize=(10,4))\\nplt.subplot(121)\\nplt.plot(fsm, label = 'Input')\\nplt.plot(fsm_n, label = 'Low Exposure')\\nplt.axhline(fsm_mode, color='g', linewidth = .5, label = 'Mode: Input')\\nplt.axhline(fsm_n_mode, color='r', linewidth = .5, label = 'Mode: Low Exposure')\\nplt.title('Mode of the minimum of first spectrum = ' + str(fsm_mode))\\nplt.legend()\\nplt.subplot(122)\\nplt.plot(np.arange(len(np.imag(bins)))*2,np.imag(bins)/np.max(np.imag(bins)), label = 'Input')\\nplt.plot(np.arange(len(np.imag(bins_n)))*2,np.imag(bins_n)/np.max(np.imag(bins_n)), label = 'Low Exposure')\\nplt.title('Odd Spectrum root = ' + str(root[0])[0:6])\\nplt.axhline(0, color = 'r', linewidth = .5, label = 'y = 0.00')\\nplt.legend()\\nplt.show()\\n\\nplt.figure(figsize=(15,15))\\nplt.subplot(121)\\nplt.imshow(sinogram)\\nplt.title('Sinogram and center line')\\nplt.axhline(root, color='w', linewidth = 1, label = str(root[0])[0:6])\\nplt.legend()\\nplt.subplot(122)\\nplt.imshow(sinogram_noise)\\nplt.title('Sinogram and center line')\\nplt.axhline(root, color='w', linewidth = 1, label = str(root_n[0])[0:6])\\nplt.legend()\\nplt.show()\\n\""
      ]
     },
     "execution_count": 5,
     "metadata": {},
     "output_type": "execute_result"
    }
   ],
   "source": [
    "## Define scan area and range\n",
    "window = sinogram.shape[0]//2\n",
    "shifting_range = sinogram.shape[0]-window\n",
    "\n",
    "## Collect the 1st FFT bin\n",
    "bins = []\n",
    "#bins_n = []\n",
    "for i in range(shifting_range):\n",
    "    bins.append(window_bins(sinogram, window, i, fbins = [1])[0])\n",
    "    #bins_n.append(window_bins(sinogram_noise, window, i, fbins = [1])[0])\n",
    "\n",
    "## Fit curve to find zero crossing and thus center.\n",
    "root, spline = spline_root(np.imag(bins), window)\n",
    "#root_n, spline_n = spline_root(np.imag(bins_n), window)\n",
    "\n",
    "## Find mode of the minimum of the real component of first spectrum\n",
    "#fsm = first_spectrum_min(sinogram, window)\n",
    "#fsm_n = first_spectrum_min(sinogram_noise, window)\n",
    "#fsm_mode = mode(fsm)[0][0]\n",
    "#fsm_n_mode = mode(fsm_n)[0][0]\n",
    "print(root)\n",
    "\n",
    "'''\n",
    "## Plot results\n",
    "plt.figure(figsize=(10,4))\n",
    "plt.subplot(121)\n",
    "plt.plot(fsm, label = 'Input')\n",
    "plt.plot(fsm_n, label = 'Low Exposure')\n",
    "plt.axhline(fsm_mode, color='g', linewidth = .5, label = 'Mode: Input')\n",
    "plt.axhline(fsm_n_mode, color='r', linewidth = .5, label = 'Mode: Low Exposure')\n",
    "plt.title('Mode of the minimum of first spectrum = ' + str(fsm_mode))\n",
    "plt.legend()\n",
    "plt.subplot(122)\n",
    "plt.plot(np.arange(len(np.imag(bins)))*2,np.imag(bins)/np.max(np.imag(bins)), label = 'Input')\n",
    "plt.plot(np.arange(len(np.imag(bins_n)))*2,np.imag(bins_n)/np.max(np.imag(bins_n)), label = 'Low Exposure')\n",
    "plt.title('Odd Spectrum root = ' + str(root[0])[0:6])\n",
    "plt.axhline(0, color = 'r', linewidth = .5, label = 'y = 0.00')\n",
    "plt.legend()\n",
    "plt.show()\n",
    "\n",
    "plt.figure(figsize=(15,15))\n",
    "plt.subplot(121)\n",
    "plt.imshow(sinogram)\n",
    "plt.title('Sinogram and center line')\n",
    "plt.axhline(root, color='w', linewidth = 1, label = str(root[0])[0:6])\n",
    "plt.legend()\n",
    "plt.subplot(122)\n",
    "plt.imshow(sinogram_noise)\n",
    "plt.title('Sinogram and center line')\n",
    "plt.axhline(root, color='w', linewidth = 1, label = str(root_n[0])[0:6])\n",
    "plt.legend()\n",
    "plt.show()\n",
    "'''\n"
   ]
  },
  {
   "cell_type": "markdown",
   "metadata": {},
   "source": [
    "# Plot the rowsum, fft[1] spectrum, and its even and odd components.\n",
    "\n",
    "## This was for playing around with different spectra"
   ]
  },
  {
   "cell_type": "code",
   "execution_count": 46,
   "metadata": {
    "scrolled": false
   },
   "outputs": [],
   "source": [
    "import math\n",
    "def goertzel(samples, *freqs):\n",
    "    \"\"\"\n",
    "    Adapted from author: Sebastien Piquemal https://github.com/sebpiq\n",
    "    Implementation of the Goertzel algorithm, useful for calculating individual\n",
    "    terms of a discrete Fourier transform.\n",
    "    \"\"\"\n",
    "    window_size = len(samples)\n",
    "    f_step = 1\n",
    "    f_step_normalized = 1.0 / window_size\n",
    "\n",
    "    # Calculate all the DFT bins we have to compute to include frequencies\n",
    "    # in `freqs`.\n",
    "    bins = set()\n",
    "    for f_range in freqs:\n",
    "        f_start, f_end = f_range\n",
    "        k_start = int(math.floor(f_start / f_step))\n",
    "        k_end = int(math.ceil(f_end / f_step))\n",
    "\n",
    "        if k_end > window_size - 1: raise ValueError('frequency out of range %s' % k_end)\n",
    "        bins = bins.union(range(k_start, k_end))\n",
    "\n",
    "    # For all the bins, calculate the DFT term\n",
    "    n_range = range(0, window_size)\n",
    "    results = []\n",
    "    for k in bins:\n",
    "\n",
    "        # Bin frequency and coefficients for the computation\n",
    "        f = k * f_step_normalized\n",
    "        w_real = 2.0 * math.cos(2.0 * math.pi * f)\n",
    "        w_imag = math.sin(2.0 * math.pi * f)\n",
    "\n",
    "        # Doing the calculation on the whole sample\n",
    "        d1, d2 = 0.0, 0.0\n",
    "        for n in n_range:\n",
    "            y  = samples[n] + w_real * d1 - d2\n",
    "            d2, d1 = d1, y\n",
    "\n",
    "        # Storing results `(real part, imag part, power)`\n",
    "        results.append(w_imag * d1)\n",
    "    return results"
   ]
  },
  {
   "cell_type": "code",
   "execution_count": 48,
   "metadata": {},
   "outputs": [
    {
     "name": "stdout",
     "output_type": "stream",
     "text": [
      "(468063984.5436595+223885670.76535282j)\n",
      "[223885670.7653974]\n"
     ]
    }
   ],
   "source": [
    "results = goertzel(rowsum, (1, 2))\n",
    "freqfft = np.fft.rfft(rowsum)[1]\n",
    "print(freqfft)\n",
    "print(results)"
   ]
  },
  {
   "cell_type": "code",
   "execution_count": null,
   "metadata": {},
   "outputs": [],
   "source": []
  }
 ],
 "metadata": {
  "kernelspec": {
   "display_name": "Python [default]",
   "language": "python",
   "name": "python3"
  },
  "language_info": {
   "codemirror_mode": {
    "name": "ipython",
    "version": 3
   },
   "file_extension": ".py",
   "mimetype": "text/x-python",
   "name": "python",
   "nbconvert_exporter": "python",
   "pygments_lexer": "ipython3",
   "version": "3.6.3"
  }
 },
 "nbformat": 4,
 "nbformat_minor": 2
}
